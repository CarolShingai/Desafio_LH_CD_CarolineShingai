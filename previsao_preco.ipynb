{
 "cells": [
  {
   "cell_type": "code",
   "execution_count": 1,
   "id": "df3a7a78-051a-4502-9f40-d52e0f668c41",
   "metadata": {},
   "outputs": [],
   "source": [
    "import pickle\n",
    "import pandas as pd"
   ]
  },
  {
   "cell_type": "code",
   "execution_count": 2,
   "id": "04010c7b-0d1d-4749-b36e-4789ca32ca61",
   "metadata": {},
   "outputs": [],
   "source": [
    "# novos dados\n",
    "new_data = {'id': 2595,\n",
    " 'nome': 'Skylit Midtown Castle',\n",
    " 'host_id': 2845,\n",
    " 'host_name': 'Jennifer',\n",
    " 'bairro_group': 'Manhattan',\n",
    " 'bairro': 'Midtown',\n",
    " 'latitude': 40.75362,\n",
    " 'longitude': -73.98377,\n",
    " 'room_type': 'Entire home/apt',\n",
    " 'minimo_noites': 1,\n",
    " 'numero_de_reviews': 45,\n",
    " 'ultima_review': '2019-05-21',\n",
    " 'reviews_por_mes': 0.38,\n",
    " 'calculado_host_listings_count': 2,\n",
    " 'disponibilidade_365': 355\n",
    "}\n",
    "\n",
    "new_data_df = pd.DataFrame([new_data])\n",
    "\n",
    "remove_columns = [\"id\", \"nome\", \"host_id\", \"host_name\", \"ultima_review\"]\n",
    "new_data_cleaned = new_data_df.drop(columns=remove_columns, axis=1)\n",
    "\n",
    "categorical_var = [\"bairro_group\", \"bairro\", \"room_type\"]\n",
    "new_data_encoded = pd.get_dummies(new_data_cleaned, columns=categorical_var, drop_first=True)\n",
    "new_data_encoded.columns = new_data_encoded.columns.str.replace(r'[^\\w]', '_', regex=True)"
   ]
  },
  {
   "cell_type": "code",
   "execution_count": 3,
   "id": "2bcfd119-1274-4717-8979-86a84286735a",
   "metadata": {},
   "outputs": [],
   "source": [
    "with open('modelo.pkl', 'rb') as file:\n",
    "    load_model = pickle.load(file)"
   ]
  },
  {
   "cell_type": "code",
   "execution_count": 4,
   "id": "d00eb181-3042-493e-a625-07c057bb7239",
   "metadata": {},
   "outputs": [
    {
     "name": "stdout",
     "output_type": "stream",
     "text": [
      "Preço previsto para o aluguel do imóvel: $323.02\n"
     ]
    }
   ],
   "source": [
    "# Ajustar as colunas para corresponder ao modelo treinado\n",
    "model_columns = load_model.feature_names_in_  # Obtém as colunas usadas no treinamento\n",
    "new_data_encoded = new_data_encoded.reindex(columns=model_columns, fill_value=0)\n",
    "\n",
    "# Fazer a previsão\n",
    "predicted_price = load_model.predict(new_data_encoded)\n",
    "print(f\"Preço previsto para o aluguel do imóvel: ${predicted_price[0]:.2f}\")\n"
   ]
  },
  {
   "cell_type": "code",
   "execution_count": null,
   "id": "71c60129-d170-47cf-a3cf-78a10200b264",
   "metadata": {},
   "outputs": [],
   "source": []
  }
 ],
 "metadata": {
  "kernelspec": {
   "display_name": "Python 3 (ipykernel)",
   "language": "python",
   "name": "python3"
  },
  "language_info": {
   "codemirror_mode": {
    "name": "ipython",
    "version": 3
   },
   "file_extension": ".py",
   "mimetype": "text/x-python",
   "name": "python",
   "nbconvert_exporter": "python",
   "pygments_lexer": "ipython3",
   "version": "3.12.7"
  }
 },
 "nbformat": 4,
 "nbformat_minor": 5
}
